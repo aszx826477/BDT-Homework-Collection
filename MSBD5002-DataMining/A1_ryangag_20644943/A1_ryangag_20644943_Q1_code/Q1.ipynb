{
 "cells": [
  {
   "cell_type": "markdown",
   "metadata": {},
   "source": [
    "# Q1.Hash Tree\n",
    "We have this hash functions shown in the figure below.\n",
    "\n",
    "![hash function](./hash_function.png)\n",
    "\n",
    "(a) Please write a program to generate a hash tree with **max leaf size 3**, output the nested list (or nested dict) of the hash tree hierarchically and draw the structure of the hash tree (you can write program to draw this hash tree or just manually draw it according to the nested list you output)."
   ]
  },
  {
   "cell_type": "markdown",
   "metadata": {},
   "source": [
    "## Build a data structure of LinkedList\n",
    "\n",
    "In the last level of leaf node, it may exist items over 3 but the max leaf size == 3. Therefore, we could use `Linkedlist` to store items whose index >= 2. We first build a `LinkedList` structure."
   ]
  },
  {
   "cell_type": "code",
   "execution_count": 1,
   "metadata": {},
   "outputs": [],
   "source": [
    "class Node(object):\n",
    "    def __init__(self, data):\n",
    "        self.data = data\n",
    "        self.next = None\n",
    "\n",
    "class LinkedList(object):\n",
    "    def __init__(self):\n",
    "        self.head = None\n",
    "        self.tail = None \n",
    "\n",
    "    # is empty => True\n",
    "    def is_empty(self):\n",
    "        return self.head is None\n",
    "\n",
    "    # Append node in the end of Linkedlist\n",
    "    def append(self, data):\n",
    "        node = Node(data)\n",
    "        if self.head is None:\n",
    "            self.head = node    \n",
    "            self.tail = node\n",
    "        else:\n",
    "            self.tail.next = node   \n",
    "            self.tail = node    \n",
    "    \n",
    "    # Traversal all elements in Linkedlist\n",
    "    def iter(self):\n",
    "        if not self.head:\n",
    "            return \n",
    "        cur = self.head\n",
    "        yield cur.data\n",
    "        while cur.next:\n",
    "            cur = cur.next\n",
    "            yield cur.data "
   ]
  },
  {
   "cell_type": "markdown",
   "metadata": {},
   "source": [
    "## Define the Hash Tree function"
   ]
  },
  {
   "cell_type": "code",
   "execution_count": 2,
   "metadata": {},
   "outputs": [],
   "source": [
    "import sys\n",
    "\n",
    "def divide_subnode(node, depth, max_level, max_leaf_size):\n",
    "    \"\"\"\n",
    "    To divide the node, recursion function\n",
    "    \n",
    "    :node: set of node\n",
    "    :depth: depth of the item\n",
    "    :max_level: the maximum level of tree\n",
    "    :max_leaf_size: the maximum leaf size\n",
    "    \"\"\"\n",
    "\n",
    "    # If the size of node <= max_leaf_size, we don't need to split the node\n",
    "    if len(node) <= max_leaf_size:\n",
    "        return node\n",
    "    # When depth == max_level, it need to be considered separately\n",
    "    if depth == max_level:\n",
    "        if len(node) <= max_leaf_size:\n",
    "            return node\n",
    "        else:\n",
    "            # Remind the max leaf size = 3 so when depth == max_level with len(node) > 3, we need to use a kind of structure to store this node\n",
    "            # A linked list is used to store items whose index >= 2\n",
    "            # structure = [item, item, LinkedList]\n",
    "            linked_list = LinkedList()\n",
    "            for item in node[2:]:  \n",
    "                linked_list.append(item)\n",
    "            structure = [node[0], node[1], linked_list]\n",
    "            # Show the linked list\n",
    "            for node in linked_list.iter():\n",
    "                print(node)\n",
    "            print()\n",
    "            return structure\n",
    "    \n",
    "    # Implement the hash funtion to divide node\n",
    "    subnode = [[],[],[]]\n",
    "    for item in node:\n",
    "        if item[depth] in [1, 3, 7]:\n",
    "            subnode[0].append(item)\n",
    "        elif item[depth] in [2, 4, 8]:\n",
    "            subnode[1].append(item)\n",
    "        elif item[depth] in [5, 6, 9]:\n",
    "            subnode[2].append(item)\n",
    "        else:\n",
    "            # If 0 exits, the program would be terminated because we don't define Hash funtion on 0\n",
    "            print(\"Cannot apply Hash function on 0\")\n",
    "            sys.exit(1)\n",
    "    return [divide_subnode(subnode[0], depth+1, max_level, max_leaf_size), \\\n",
    "            divide_subnode(subnode[1], depth+1, max_level, max_leaf_size), \\\n",
    "            divide_subnode(subnode[2], depth+1, max_level, max_leaf_size)]\n",
    "\n",
    "\n",
    "def create_hash_tree(input, begin_depth=0, max_level=3, max_leaf_size=3):\n",
    "    \"\"\"\n",
    "    Create Hash Tree\n",
    "    \n",
    "    :input: (list) Input a nested list as the input\n",
    "    :begin_depth: the beginning depth, default = 0\n",
    "    :max_level: the maximum level of tree, default = 3\n",
    "    :max_leaf_size: the maximum leaf size, default = 3\n",
    "    \n",
    "    :return: (list) hash_tree\n",
    "    \"\"\"\n",
    "    \n",
    "    hash_tree = divide_subnode(input, begin_depth, max_level, max_leaf_size)\n",
    "    return hash_tree"
   ]
  },
  {
   "cell_type": "code",
   "execution_count": 3,
   "metadata": {},
   "outputs": [
    {
     "name": "stdout",
     "output_type": "stream",
     "text": [
      "[1, 8, 9]\n",
      "[3, 4, 6]\n",
      "[7, 8, 9]\n",
      "\n",
      "[2, 6, 9]\n",
      "[4, 5, 6]\n",
      "[4, 5, 9]\n",
      "\n"
     ]
    },
    {
     "data": {
      "text/plain": [
       "[[[[1, 3, 9], [3, 7, 8]],\n",
       "  [[[1, 2, 3]],\n",
       "   [[3, 4, 8]],\n",
       "   [[1, 4, 5], [1, 4, 6], <__main__.LinkedList at 0x1da1f914390>]],\n",
       "  [[[1, 5, 7]], [[1, 6, 8]], [[1, 5, 9], [1, 6, 9]]]],\n",
       " [[[], [[2, 7, 8], [4, 7, 8]], [[2, 3, 9], [2, 7, 9], [4, 7, 9]]],\n",
       "  [[2, 8, 9], [4, 8, 9]],\n",
       "  [[[2, 5, 7], [2, 6, 7]],\n",
       "   [[2, 6, 8], [4, 5, 8]],\n",
       "   [[2, 5, 6], [2, 5, 9], <__main__.LinkedList at 0x1da1f914400>]]],\n",
       " [[[5, 7, 8], [5, 7, 9], [6, 7, 9]],\n",
       "  [[5, 8, 9], [6, 8, 9]],\n",
       "  [[5, 6, 7], [5, 6, 8]]]]"
      ]
     },
     "execution_count": 3,
     "metadata": {},
     "output_type": "execute_result"
    }
   ],
   "source": [
    "# The example is 3-item so we build a hash tree with max-level 3, starting from 0 depth\n",
    "# Example input\n",
    "input = [[1,2,3],[1,3,9],[1,4,5],[1,4,6],[1,5,7],[1,5,9],[1,6,8],[1,6,9],[1,8,9],\n",
    "         [2,3,9],[2,5,6],[2,5,7],[2,5,9],[2,6,7],[2,6,8],[2,6,9],[2,7,8],[2,7,9],[2,8,9],\n",
    "         [3,4,6],[3,4,8],[3,7,8],\n",
    "         [4,5,6],[4,5,8],[4,5,9],[4,7,8],[4,7,9],[4,8,9],\n",
    "         [5,6,7],[5,6,8],[5,7,8],[5,7,9],[5,8,9],\n",
    "         [6,7,9],[6,8,9],\n",
    "         [7,8,9]]\n",
    "create_hash_tree(input, begin_depth=0, max_level=3, max_leaf_size=3)"
   ]
  },
  {
   "cell_type": "markdown",
   "metadata": {},
   "source": [
    "Therefore, we can draw the hash tree below\n",
    "\n",
    "![hash tree](./hash_tree.png)"
   ]
  },
  {
   "cell_type": "markdown",
   "metadata": {},
   "source": [
    "(b) Given a transaction that contains items `{1, 3, 5, 6, 7, 9}`, how many comparisons are needed using the hash tree which you generate above? Please **circle** these candidates in the hash tree. **No programming required.**\n",
    "\n",
    "Match transaction **10** candidates in the hash tree which are circled. It needs to compare totally **34** times using my generated hash tree.\n",
    "```\n",
    "1 + 35679   \n",
    "13 + 5679   2+2+2+1=7\n",
    "15 + 679    2+1+1=4\n",
    "16 + 79     1+2=3\n",
    "17 + 9      2\n",
    "\n",
    "3 + 5679    \n",
    "35 + 679    2+1+2=5\n",
    "36 + 79     1+2=3\n",
    "37 + 9      2\n",
    "\n",
    "5 + 679     \n",
    "56 + 79     1+2=3\n",
    "57 + 9      2\n",
    "\n",
    "679         3\n",
    "```\n",
    "![tree compare](./tree_compare.png)"
   ]
  }
 ],
 "metadata": {
  "kernelspec": {
   "display_name": "Python 3",
   "language": "python",
   "name": "python3"
  },
  "language_info": {
   "codemirror_mode": {
    "name": "ipython",
    "version": 3
   },
   "file_extension": ".py",
   "mimetype": "text/x-python",
   "name": "python",
   "nbconvert_exporter": "python",
   "pygments_lexer": "ipython3",
   "version": "3.7.3"
  }
 },
 "nbformat": 4,
 "nbformat_minor": 4
}
